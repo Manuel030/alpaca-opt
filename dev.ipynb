{
 "cells": [
  {
   "cell_type": "code",
   "execution_count": 27,
   "metadata": {},
   "outputs": [],
   "source": [
    "import os\n",
    "\n",
    "# os.environ[\"CUDA_VISIBLE_DEVICES\"] = \"0\"\n",
    "import torch\n",
    "import torch.nn as nn\n",
    "import bitsandbytes as bnb\n",
    "from datasets import load_dataset\n",
    "import transformers\n",
    "from transformers import AutoTokenizer, AutoConfig, OPTForCausalLM, AutoTokenizer\n",
    "from peft import prepare_model_for_int8_training, LoraConfig, get_peft_model"
   ]
  },
  {
   "cell_type": "code",
   "execution_count": 28,
   "metadata": {},
   "outputs": [],
   "source": [
    "BASE_MODEL = \"facebook/opt-125m\"\n",
    "CUTOFF_LEN = 256"
   ]
  },
  {
   "cell_type": "code",
   "execution_count": 29,
   "metadata": {},
   "outputs": [],
   "source": [
    "tokenizer = AutoTokenizer.from_pretrained(\n",
    "        BASE_MODEL,\n",
    "        model_max_length=CUTOFF_LEN,\n",
    "        padding_side=\"right\",\n",
    "        use_fast=False,\n",
    "    )"
   ]
  },
  {
   "cell_type": "code",
   "execution_count": 30,
   "metadata": {},
   "outputs": [
    {
     "data": {
      "text/plain": [
       "'<pad>'"
      ]
     },
     "execution_count": 30,
     "metadata": {},
     "output_type": "execute_result"
    }
   ],
   "source": [
    "tokenizer.pad_token"
   ]
  },
  {
   "cell_type": "code",
   "execution_count": 31,
   "metadata": {},
   "outputs": [
    {
     "name": "stderr",
     "output_type": "stream",
     "text": [
      "Found cached dataset json (/home/manuel/.cache/huggingface/datasets/json/default-19891df62e56ad99/0.0.0/0f7e3662623656454fcd2b650f34e886a7db4b9104504885bd462096cc7a9f51)\n",
      "100%|██████████| 1/1 [00:00<00:00, 494.49it/s]\n",
      "                                                                   \r"
     ]
    }
   ],
   "source": [
    "data = load_dataset(\"json\", data_files=\"alpaca_data.json\")\n",
    "\n",
    "\n",
    "def generate_prompt(data_point):\n",
    "    # sorry about the formatting disaster gotta move fast\n",
    "    if data_point[\"input\"]:\n",
    "        return f\"\"\"Below is an instruction that describes a task, paired with an input that provides further context. Write a response that appropriately completes the request.\n",
    "### Instruction:\n",
    "{data_point[\"instruction\"]}\n",
    "### Input:\n",
    "{data_point[\"input\"]}\n",
    "### Response:\n",
    "{data_point[\"output\"]}\"\"\"\n",
    "    else:\n",
    "        return f\"\"\"Below is an instruction that describes a task. Write a response that appropriately completes the request.\n",
    "### Instruction:\n",
    "{data_point[\"instruction\"]}\n",
    "### Response:\n",
    "{data_point[\"output\"]}\"\"\"\n",
    "\n",
    "\n",
    "data = data.shuffle().map(\n",
    "    lambda data_point: tokenizer(\n",
    "        generate_prompt(data_point),\n",
    "        padding=\"longest\",\n",
    "        max_length=CUTOFF_LEN,\n",
    "        truncation=True,\n",
    "    )\n",
    ")"
   ]
  },
  {
   "cell_type": "code",
   "execution_count": 32,
   "metadata": {},
   "outputs": [
    {
     "data": {
      "text/plain": [
       "Dataset({\n",
       "    features: ['instruction', 'input', 'output', 'input_ids', 'attention_mask'],\n",
       "    num_rows: 52002\n",
       "})"
      ]
     },
     "execution_count": 32,
     "metadata": {},
     "output_type": "execute_result"
    }
   ],
   "source": [
    "data[\"train\"]"
   ]
  },
  {
   "cell_type": "code",
   "execution_count": 33,
   "metadata": {},
   "outputs": [
    {
     "data": {
      "text/plain": [
       "'Ġresponse'"
      ]
     },
     "execution_count": 33,
     "metadata": {},
     "output_type": "execute_result"
    }
   ],
   "source": [
    "tokenizer.convert_ids_to_tokens(1263)"
   ]
  },
  {
   "cell_type": "code",
   "execution_count": 34,
   "metadata": {},
   "outputs": [
    {
     "data": {
      "text/plain": [
       "{'instruction': 'Given the following two segments of text, find the differences.',\n",
       " 'input': 'Text 1: She went to the store\\nText 2: She walked to the store',\n",
       " 'output': 'The difference between the two segments is that the first one states \"She went to the store\", while the second one states \"She walked to the store\".',\n",
       " 'input_ids': [2,\n",
       "  45943,\n",
       "  16,\n",
       "  41,\n",
       "  15741,\n",
       "  14,\n",
       "  7448,\n",
       "  10,\n",
       "  3685,\n",
       "  6,\n",
       "  11153,\n",
       "  19,\n",
       "  41,\n",
       "  8135,\n",
       "  14,\n",
       "  1639,\n",
       "  617,\n",
       "  5377,\n",
       "  4,\n",
       "  21062,\n",
       "  10,\n",
       "  1263,\n",
       "  14,\n",
       "  16574,\n",
       "  25830,\n",
       "  5,\n",
       "  2069,\n",
       "  4,\n",
       "  50118,\n",
       "  48134,\n",
       "  41241,\n",
       "  35,\n",
       "  50118,\n",
       "  18377,\n",
       "  5,\n",
       "  511,\n",
       "  80,\n",
       "  5561,\n",
       "  9,\n",
       "  2788,\n",
       "  6,\n",
       "  465,\n",
       "  5,\n",
       "  5550,\n",
       "  4,\n",
       "  50118,\n",
       "  48134,\n",
       "  41327,\n",
       "  35,\n",
       "  50118,\n",
       "  39645,\n",
       "  112,\n",
       "  35,\n",
       "  264,\n",
       "  439,\n",
       "  7,\n",
       "  5,\n",
       "  1400,\n",
       "  50118,\n",
       "  39645,\n",
       "  132,\n",
       "  35,\n",
       "  264,\n",
       "  3203,\n",
       "  7,\n",
       "  5,\n",
       "  1400,\n",
       "  50118,\n",
       "  48134,\n",
       "  19121,\n",
       "  35,\n",
       "  50118,\n",
       "  133,\n",
       "  2249,\n",
       "  227,\n",
       "  5,\n",
       "  80,\n",
       "  5561,\n",
       "  16,\n",
       "  14,\n",
       "  5,\n",
       "  78,\n",
       "  65,\n",
       "  982,\n",
       "  22,\n",
       "  2515,\n",
       "  439,\n",
       "  7,\n",
       "  5,\n",
       "  1400,\n",
       "  1297,\n",
       "  150,\n",
       "  5,\n",
       "  200,\n",
       "  65,\n",
       "  982,\n",
       "  22,\n",
       "  2515,\n",
       "  3203,\n",
       "  7,\n",
       "  5,\n",
       "  1400,\n",
       "  845],\n",
       " 'attention_mask': [1,\n",
       "  1,\n",
       "  1,\n",
       "  1,\n",
       "  1,\n",
       "  1,\n",
       "  1,\n",
       "  1,\n",
       "  1,\n",
       "  1,\n",
       "  1,\n",
       "  1,\n",
       "  1,\n",
       "  1,\n",
       "  1,\n",
       "  1,\n",
       "  1,\n",
       "  1,\n",
       "  1,\n",
       "  1,\n",
       "  1,\n",
       "  1,\n",
       "  1,\n",
       "  1,\n",
       "  1,\n",
       "  1,\n",
       "  1,\n",
       "  1,\n",
       "  1,\n",
       "  1,\n",
       "  1,\n",
       "  1,\n",
       "  1,\n",
       "  1,\n",
       "  1,\n",
       "  1,\n",
       "  1,\n",
       "  1,\n",
       "  1,\n",
       "  1,\n",
       "  1,\n",
       "  1,\n",
       "  1,\n",
       "  1,\n",
       "  1,\n",
       "  1,\n",
       "  1,\n",
       "  1,\n",
       "  1,\n",
       "  1,\n",
       "  1,\n",
       "  1,\n",
       "  1,\n",
       "  1,\n",
       "  1,\n",
       "  1,\n",
       "  1,\n",
       "  1,\n",
       "  1,\n",
       "  1,\n",
       "  1,\n",
       "  1,\n",
       "  1,\n",
       "  1,\n",
       "  1,\n",
       "  1,\n",
       "  1,\n",
       "  1,\n",
       "  1,\n",
       "  1,\n",
       "  1,\n",
       "  1,\n",
       "  1,\n",
       "  1,\n",
       "  1,\n",
       "  1,\n",
       "  1,\n",
       "  1,\n",
       "  1,\n",
       "  1,\n",
       "  1,\n",
       "  1,\n",
       "  1,\n",
       "  1,\n",
       "  1,\n",
       "  1,\n",
       "  1,\n",
       "  1,\n",
       "  1,\n",
       "  1,\n",
       "  1,\n",
       "  1,\n",
       "  1,\n",
       "  1,\n",
       "  1,\n",
       "  1,\n",
       "  1,\n",
       "  1,\n",
       "  1,\n",
       "  1,\n",
       "  1,\n",
       "  1,\n",
       "  1]}"
      ]
     },
     "execution_count": 34,
     "metadata": {},
     "output_type": "execute_result"
    }
   ],
   "source": [
    "data[\"train\"][1]"
   ]
  }
 ],
 "metadata": {
  "kernelspec": {
   "display_name": "Python 3.10.10 ('venv': venv)",
   "language": "python",
   "name": "python3"
  },
  "language_info": {
   "codemirror_mode": {
    "name": "ipython",
    "version": 3
   },
   "file_extension": ".py",
   "mimetype": "text/x-python",
   "name": "python",
   "nbconvert_exporter": "python",
   "pygments_lexer": "ipython3",
   "version": "3.10.10"
  },
  "orig_nbformat": 4,
  "vscode": {
   "interpreter": {
    "hash": "ee053b53d6d212d0a6289f1fbe401ad44716968656562dbe5d5e861ac25c3dc5"
   }
  }
 },
 "nbformat": 4,
 "nbformat_minor": 2
}
